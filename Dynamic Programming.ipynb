{
 "cells": [
  {
   "cell_type": "markdown",
   "id": "082e6da7",
   "metadata": {},
   "source": [
    "## Dynamic Programming "
   ]
  },
  {
   "cell_type": "code",
   "execution_count": 1,
   "id": "4ff01a03",
   "metadata": {},
   "outputs": [],
   "source": [
    "# Your Task : Add a Memoization to reduce the time complexity from O(n**m) ti \n",
    "def gridTraveller(m,n):\n",
    "    \n",
    "    def dfs(m,n,path,output):\n",
    "        \n",
    "        if( m== 0 or n == 0):\n",
    "            return []\n",
    "        \n",
    "        if (m==1 and n==1):\n",
    "            output.append(path)\n",
    "            \n",
    "        dfs(m-1,n,path+['down'],output)\n",
    "        dfs(m,n-1,path+[\"right\"],output)\n",
    "        return output\n",
    "    \n",
    "    path = []\n",
    "    output = []\n",
    "    return dfs(m,n,path,output)"
   ]
  },
  {
   "cell_type": "code",
   "execution_count": 2,
   "id": "4afb1833",
   "metadata": {},
   "outputs": [
    {
     "name": "stdout",
     "output_type": "stream",
     "text": [
      "[['down', 'down', 'right', 'right'], ['down', 'right', 'down', 'right'], ['down', 'right', 'right', 'down'], ['right', 'down', 'down', 'right'], ['right', 'down', 'right', 'down'], ['right', 'right', 'down', 'down']]\n"
     ]
    }
   ],
   "source": [
    "print(gridTraveller(3,3))\n",
    "#print(gridTraveller(13,13))"
   ]
  },
  {
   "cell_type": "code",
   "execution_count": 3,
   "id": "1ae88b20",
   "metadata": {},
   "outputs": [],
   "source": [
    "def howSum(target,arr,memo = None):\n",
    "    if memo == None:\n",
    "        memo ={}\n",
    "    if target in memo:\n",
    "        return memo[target]\n",
    "    if target == 0:\n",
    "        return []\n",
    "    if target < 0:\n",
    "        return None\n",
    "    \n",
    "    for num in arr:\n",
    "        remainder = target -num\n",
    "        result = howSum(remainder,arr,memo)\n",
    "        if result != None:\n",
    "            memo[target] = result + [num]\n",
    "            return memo[target]\n",
    "    \n",
    "    memo[target] = None\n",
    "    return None\n",
    "            \n",
    "        "
   ]
  },
  {
   "cell_type": "code",
   "execution_count": 4,
   "id": "de558ca6",
   "metadata": {},
   "outputs": [
    {
     "name": "stdout",
     "output_type": "stream",
     "text": [
      "[7]\n",
      "None\n",
      "None\n"
     ]
    }
   ],
   "source": [
    "print(howSum(7,[7,4,3,5]))\n",
    "print(howSum(7,[3,5]))\n",
    "print(howSum(300,[14,7]))"
   ]
  },
  {
   "cell_type": "code",
   "execution_count": 5,
   "id": "ff5d48cf",
   "metadata": {},
   "outputs": [],
   "source": [
    "def AllSumPath(target,arr):\n",
    "    \n",
    "    def dfs(target,arr,path,output):\n",
    "        if target == 0:\n",
    "            return []\n",
    "        if target < 0:\n",
    "            return None\n",
    "        \n",
    "        for num in arr:\n",
    "            result = dfs(target-num,arr,path+[num],output) \n",
    "            if result != None:\n",
    "                output.append(path +[num])\n",
    "        return output\n",
    "    path = output = []\n",
    "    return dfs(target,arr,path,output)\n",
    "                \n",
    "        "
   ]
  },
  {
   "cell_type": "code",
   "execution_count": 6,
   "id": "997b8759",
   "metadata": {},
   "outputs": [
    {
     "name": "stdout",
     "output_type": "stream",
     "text": [
      "[[7], [[7], 4, 3], [[7], [[7], 4, 3], 4], [[7], [[7], 4, 3], [[7], [[7], 4, 3], 4], 3, 4], [[7], [[7], 4, 3], [[7], [[7], 4, 3], 4], 3, 3], [[7], [[7], 4, 3], [[7], [[7], 4, 3], 4], [[7], [[7], 4, 3], [[7], [[7], 4, 3], 4], 3, 4], [[7], [[7], 4, 3], [[7], [[7], 4, 3], 4], 3, 3], 3], [[7], [[7], 4, 3], [[7], [[7], 4, 3], 4], [[7], [[7], 4, 3], [[7], [[7], 4, 3], 4], 3, 4], [[7], [[7], 4, 3], [[7], [[7], 4, 3], 4], 3, 3], [[7], [[7], 4, 3], [[7], [[7], 4, 3], 4], [[7], [[7], 4, 3], [[7], [[7], 4, 3], 4], 3, 4], [[7], [[7], 4, 3], [[7], [[7], 4, 3], 4], 3, 3], 3], 5]]\n"
     ]
    }
   ],
   "source": [
    "print(AllSumPath(7,[7,4,3,5]))\n",
    "#print(AllSumPath(7,[3,5]))\n",
    "#print(AllSumPath(300,[14,7]))"
   ]
  },
  {
   "cell_type": "code",
   "execution_count": 26,
   "id": "110d2e87",
   "metadata": {},
   "outputs": [],
   "source": [
    "# Time Complexity O(2**n)\n",
    "# Space Complexity O(n)\n",
    "def ClimbingSteps(n):\n",
    "    #Base Case \n",
    "    if n == 0:\n",
    "        return 1\n",
    "    if n < 0:\n",
    "        return 0\n",
    "    count = 0\n",
    "    for i in [1,2]:\n",
    "        count += ClimbingSteps(n-i)\n",
    "    return count \n"
   ]
  },
  {
   "cell_type": "code",
   "execution_count": 27,
   "id": "102ae639",
   "metadata": {},
   "outputs": [
    {
     "data": {
      "text/plain": [
       "34"
      ]
     },
     "execution_count": 27,
     "metadata": {},
     "output_type": "execute_result"
    }
   ],
   "source": [
    "ClimbingSteps(8)"
   ]
  },
  {
   "cell_type": "code",
   "execution_count": 22,
   "id": "53fe1c11",
   "metadata": {},
   "outputs": [],
   "source": [
    "# Time Complexity O(n)  \n",
    "# Space Complexity O(n)\n",
    "def ClimbingStepsmemo(n, visited = None):\n",
    "    if visited == None:\n",
    "        visited = {}\n",
    "    #Base Case \n",
    "    if n == 0:\n",
    "        return 1\n",
    "    if n < 0:\n",
    "        return 0\n",
    "    if n in visited:\n",
    "        return visited[n]\n",
    "    count = 0\n",
    "    for i in [1,2]:\n",
    "        count += ClimbingStepsmemo(n-i, visited)\n",
    "    visited[n] = count\n",
    "    return visited[n]\n"
   ]
  },
  {
   "cell_type": "code",
   "execution_count": 25,
   "id": "5bdc8e1a",
   "metadata": {},
   "outputs": [
    {
     "name": "stdout",
     "output_type": "stream",
     "text": [
      "7778742049\n",
      "8\n"
     ]
    }
   ],
   "source": [
    "print(ClimbingStepsmemo(48))\n",
    "print(ClimbingStepsmemo(5))"
   ]
  },
  {
   "cell_type": "code",
   "execution_count": 28,
   "id": "7892dbcf",
   "metadata": {},
   "outputs": [],
   "source": [
    "# Time Complexity O(n)  \n",
    "# Space Complexity O(1)\n",
    "def ClimbingStep(n):\n",
    "    one,two = 1,1\n",
    "    for i in range(n-1):\n",
    "        temp = one\n",
    "        one = one + two\n",
    "        two = temp\n",
    "    return one\n"
   ]
  },
  {
   "cell_type": "code",
   "execution_count": 29,
   "id": "bc2a4502",
   "metadata": {},
   "outputs": [
    {
     "name": "stdout",
     "output_type": "stream",
     "text": [
      "7778742049\n",
      "8\n"
     ]
    }
   ],
   "source": [
    "print(ClimbingStep(48))\n",
    "print(ClimbingStep(5))"
   ]
  },
  {
   "cell_type": "code",
   "execution_count": 258,
   "id": "9339776d",
   "metadata": {},
   "outputs": [],
   "source": [
    "def CoinChange(amount,coins):  \n",
    "    path =[]\n",
    "    output = [amount+1]\n",
    "    def helper(amount,coins,path,output):\n",
    "        if amount == 0:\n",
    "            if len(path) < output[0]:\n",
    "                output.pop()\n",
    "                output.append(len(path))\n",
    "        if amount <0:\n",
    "            return\n",
    "        \n",
    "        for coin in coins:\n",
    "            helper(amount-coin,coins,path + [coin],output)\n",
    "        return output[0] if output[0] != amount +1 else -1\n",
    "    return helper(amount,coins,path,output)\n",
    "        \n",
    "    "
   ]
  },
  {
   "cell_type": "code",
   "execution_count": 259,
   "id": "94656fe1",
   "metadata": {},
   "outputs": [
    {
     "name": "stdout",
     "output_type": "stream",
     "text": [
      "-1\n"
     ]
    }
   ],
   "source": [
    "amount = 11\n",
    "coins = [10,2,13]\n",
    "print(CoinChange(amount,coins))"
   ]
  },
  {
   "cell_type": "code",
   "execution_count": 237,
   "id": "ec5a59cc",
   "metadata": {},
   "outputs": [],
   "source": [
    "#Time Complexity of O(n * k) where n is the amount and k is the length of coins\n",
    "# Time complexity of O(n) where n is the amount \n",
    "def BestCoinChange(amount,coins):\n",
    "    dp =[amount + 1] *(amount +1)\n",
    "    dp[0] = 0\n",
    "    \n",
    "    for a in range(1,amount+1):\n",
    "        for c in coins:\n",
    "            remainder = a-c\n",
    "            if remainder >= 0:\n",
    "                dp[a] = min(dp[a],1+dp[remainder])\n",
    "    return dp[amount] if dp[amount] != amount +1 else -1"
   ]
  },
  {
   "cell_type": "code",
   "execution_count": 58,
   "id": "d674e1bb",
   "metadata": {},
   "outputs": [
    {
     "name": "stdout",
     "output_type": "stream",
     "text": [
      "6\n"
     ]
    }
   ],
   "source": [
    "amount = 11\n",
    "coins = [1,2,20]\n",
    "print(BestCoinChange(amount,coins))"
   ]
  },
  {
   "cell_type": "code",
   "execution_count": 89,
   "id": "e448cc8c",
   "metadata": {},
   "outputs": [],
   "source": [
    "def AllPossibleSum(candidates,target, path=None,output = None):\n",
    "    if path == None:\n",
    "        path = []\n",
    "    if output == None:\n",
    "        output = []\n",
    "    \n",
    "    if target == 0:\n",
    "        output.append(path)\n",
    "        return []\n",
    "    if target < 0:\n",
    "        return None\n",
    "    \n",
    "    for num in candidates:\n",
    "        AllPossibleSum(candidates,target-num,path+[num], output)\n",
    "    return output\n",
    "    "
   ]
  },
  {
   "cell_type": "code",
   "execution_count": 90,
   "id": "91a937d6",
   "metadata": {},
   "outputs": [
    {
     "name": "stdout",
     "output_type": "stream",
     "text": [
      "[[2, 2, 3], [2, 3, 2], [3, 2, 2], [7]]\n"
     ]
    }
   ],
   "source": [
    "amount = 7\n",
    "coins = [2,3,6,7]\n",
    "print(AllPossibleSum(coins,amount))"
   ]
  },
  {
   "cell_type": "code",
   "execution_count": 167,
   "id": "49929d8d",
   "metadata": {},
   "outputs": [],
   "source": [
    "# This is a backtracking decision tree\n",
    "# Time complexity of O(n) where n is the target\n",
    "# Space complexity O(m + n)\n",
    "def CombinationSum(candidates,target):\n",
    "    res =[]\n",
    "    \n",
    "    def dfs(i,path,total):\n",
    "        if total == target:\n",
    "            res.append(path.copy())\n",
    "            return \n",
    "        if i >=len(candidates) or total >target:\n",
    "            return\n",
    "        \n",
    "        # The first Decision to include an element\n",
    "        path.append(candidates[i])\n",
    "        dfs(i,path,total+candidates[i])\n",
    "        \n",
    "        # Second Decision not to include an element\n",
    "        path.pop()\n",
    "        dfs(i+1,path,total)\n",
    "        \n",
    "    dfs(0,[],0)\n",
    "    return res\n",
    "        "
   ]
  },
  {
   "cell_type": "code",
   "execution_count": 168,
   "id": "f59b6a17",
   "metadata": {},
   "outputs": [
    {
     "name": "stdout",
     "output_type": "stream",
     "text": [
      "[[2, 2, 3], [7]]\n"
     ]
    }
   ],
   "source": [
    "amount = 7\n",
    "coins = [2,3,6,7]\n",
    "print(CombinationSum(coins,amount))"
   ]
  },
  {
   "cell_type": "code",
   "execution_count": 165,
   "id": "c90b2ad3",
   "metadata": {},
   "outputs": [],
   "source": [
    "# Robber House I \n",
    "# Houses are Adjacent to each other\n",
    "#  Time Cmplexity of O(n)\n",
    "# space Complexity of O(1)\n",
    "def rob(arr):\n",
    "    rob1, rob2 =0,0\n",
    "    for num in arr:\n",
    "        rob1,rob2 = rob2, max(num + rob1,rob2)\n",
    "    return rob2\n",
    "        "
   ]
  },
  {
   "cell_type": "code",
   "execution_count": 4,
   "id": "de24b4e2",
   "metadata": {},
   "outputs": [
    {
     "name": "stdout",
     "output_type": "stream",
     "text": [
      "6\n"
     ]
    }
   ],
   "source": [
    "arr  =[1,2,3,4]\n",
    "print(rob(arr))"
   ]
  },
  {
   "cell_type": "code",
   "execution_count": 5,
   "id": "e0694eeb",
   "metadata": {},
   "outputs": [],
   "source": [
    "# Robber House II \n",
    "# Houses are Adjacent to each other in a cycle i.e Houses at ends are adjacent to each othe\n",
    "#  Time Cmplexity of O(n)\n",
    "# space Complexity of O(1)\n",
    "\n",
    "def CycleRob(arr):\n",
    "    # Partition the array into Two like\n",
    "    # [1,2,34] ==> [1,2] and [2,34]  \n",
    "    # Do the rob function on the two partions and return the max \n",
    "    p1,p2 = rob(arr[1:]), rob(arr[:-1])\n",
    "    return max(p1,p2)\n",
    "    "
   ]
  },
  {
   "cell_type": "code",
   "execution_count": 7,
   "id": "0d9dc5ba",
   "metadata": {},
   "outputs": [
    {
     "name": "stdout",
     "output_type": "stream",
     "text": [
      "10\n"
     ]
    }
   ],
   "source": [
    "arr  =[7,2,3,4]\n",
    "print(CycleRob(arr))"
   ]
  },
  {
   "cell_type": "code",
   "execution_count": 64,
   "id": "e3c4b57f",
   "metadata": {},
   "outputs": [],
   "source": [
    "# TIME COMPLEXITY OF O(N**2)\n",
    "# SPACE COMPLEXITY OF O(N**2) \n",
    "# BUT THIS CAN BE IMPROVED USING GREEDY ALGORITHM TO A TIME COMPLEXITY OF O(N)\n",
    "def JumpGame(arr):\n",
    "    length = len(arr)-1\n",
    "    def dfs(i, dp):\n",
    "        # I is the index of the arr\n",
    "        # Base Cases \n",
    "        if i == length:\n",
    "            return True\n",
    "        if i > length:\n",
    "            return False\n",
    "        if i in dp:\n",
    "            return dp[i]\n",
    "        \n",
    "        result = False\n",
    "        for num in range(1,arr[i]+1):\n",
    "            result = dfs(i+num,dp)\n",
    "            if result == True:\n",
    "                return result\n",
    "        dp[i] = result\n",
    "        #print(dp)\n",
    "        return False\n",
    "    dp = {}\n",
    "    return dfs(0,dp)\n",
    "            "
   ]
  },
  {
   "cell_type": "code",
   "execution_count": 65,
   "id": "4928dd23",
   "metadata": {},
   "outputs": [
    {
     "data": {
      "text/plain": [
       "True"
      ]
     },
     "execution_count": 65,
     "metadata": {},
     "output_type": "execute_result"
    }
   ],
   "source": [
    "JumpGame([3,2,1,1,4])"
   ]
  },
  {
   "cell_type": "code",
   "execution_count": 66,
   "id": "14b4efd0",
   "metadata": {},
   "outputs": [],
   "source": [
    "# Using Greedy Algorithm, we have a time complexity of O(n) \n",
    "# and Space Complexity of O(1)\n",
    "def JumpGameGreedy(arr):\n",
    "    goalpost = len(arr)-1\n",
    "    \n",
    "    for i in range(goalpost,-1,-1):\n",
    "        if (i + arr[i] >= goalpost):\n",
    "            goalpost = i\n",
    "    return True if goalpost == 0 else False\n",
    "            \n",
    "    "
   ]
  },
  {
   "cell_type": "code",
   "execution_count": 68,
   "id": "ca51fbde",
   "metadata": {},
   "outputs": [
    {
     "data": {
      "text/plain": [
       "True"
      ]
     },
     "execution_count": 68,
     "metadata": {},
     "output_type": "execute_result"
    }
   ],
   "source": [
    "JumpGameGreedy([3,2,1,1,4])"
   ]
  },
  {
   "cell_type": "code",
   "execution_count": 83,
   "id": "d71e61e5",
   "metadata": {},
   "outputs": [],
   "source": [
    "# Time Complexity of O(m*n)\n",
    "# Space complexity of O(n*m + m*n)\n",
    "def LongestSubsequence(text1,text2):\n",
    "    i,j= 0,0\n",
    "    n,m = len(text1)-1, len(text2)-1\n",
    "    dp = {}\n",
    "    def dfs(i,j,dp):\n",
    "        val = str(i) +\",\" + str(j)\n",
    "        if (i >n or j>m):\n",
    "            return 0\n",
    "        if(text1[i] == text2[j]):\n",
    "            return 1 + dfs(i+1,j+1,dp)\n",
    "        if val in dp:\n",
    "            return dp[val]\n",
    "\n",
    "        dp[val] = max(dfs(i+1,j,dp),dfs(i,j+1,dp))\n",
    "        return dp[val]\n",
    "\n",
    "    return dfs(i,j,dp)\n",
    "    "
   ]
  },
  {
   "cell_type": "code",
   "execution_count": 85,
   "id": "f5afb4cd",
   "metadata": {},
   "outputs": [
    {
     "data": {
      "text/plain": [
       "4"
      ]
     },
     "execution_count": 85,
     "metadata": {},
     "output_type": "execute_result"
    }
   ],
   "source": [
    "LongestSubsequence(\"abcde\",\"abce\")"
   ]
  },
  {
   "cell_type": "code",
   "execution_count": 95,
   "id": "17221fbf",
   "metadata": {},
   "outputs": [],
   "source": [
    "# Time Complexity of O(m*n)\n",
    "# Space complexity of O(n*m)\n",
    "def LongestSub(text1,text2):\n",
    "    dp = [ [0 for j in range(len(text2)+1)] for i in range(len(text1)+1)]\n",
    "    \n",
    "    for i in range(len(text1)-1,-1,-1):\n",
    "        for j in range(len(text2)-1,-1,-1):\n",
    "            if text1[i] == text2[j]:\n",
    "                dp[i][j] = 1 + dp[i+1][j+1]\n",
    "            else:\n",
    "                dp[i][j] = max(dp[i][j+1],dp[i+1][j])\n",
    "    return dp[0][0]"
   ]
  },
  {
   "cell_type": "code",
   "execution_count": 97,
   "id": "1db94ab0",
   "metadata": {},
   "outputs": [
    {
     "data": {
      "text/plain": [
       "3"
      ]
     },
     "execution_count": 97,
     "metadata": {},
     "output_type": "execute_result"
    }
   ],
   "source": [
    "LongestSub(\"abcd\",\"acbd\")"
   ]
  },
  {
   "cell_type": "code",
   "execution_count": 110,
   "id": "009c0850",
   "metadata": {},
   "outputs": [],
   "source": [
    "#Time Complexity of O(n^2)\n",
    "# Space Complexity of O(n)\n",
    "def LongestIncreasingSequence(arr):\n",
    "    dp = [1]*len(arr)\n",
    "    \n",
    "    for i in range(len(arr)-1,-1,-1):\n",
    "        for j in range(i+1,len(arr)):\n",
    "            if arr[i] < arr[j]:\n",
    "                dp[i] = max(dp[i], 1+ dp[j])\n",
    "    return max(dp) "
   ]
  },
  {
   "cell_type": "code",
   "execution_count": 111,
   "id": "1247152c",
   "metadata": {},
   "outputs": [
    {
     "data": {
      "text/plain": [
       "4"
      ]
     },
     "execution_count": 111,
     "metadata": {},
     "output_type": "execute_result"
    }
   ],
   "source": [
    "LongestIncreasingSequence([10,9,2,5,3,7,101,18])"
   ]
  },
  {
   "cell_type": "code",
   "execution_count": null,
   "id": "6ea05c99",
   "metadata": {},
   "outputs": [],
   "source": [
    "# UNIQUE PATH \n",
    "# TIME COMPLEXITY OF O(N*M)\n",
    "# SPACE COMPLEXITY OF O(N)"
   ]
  },
  {
   "cell_type": "code",
   "execution_count": 116,
   "id": "e9b463f8",
   "metadata": {},
   "outputs": [],
   "source": [
    "\n",
    "def GridTravel(n,m):\n",
    "    row = [1] * m\n",
    "    \n",
    "    for i in range(n-1):\n",
    "        newRow = [1] * m\n",
    "        \n",
    "        for j in range(m-2,-1,-1):\n",
    "            newRow[j] = newRow[j+1] + row[j]\n",
    "        row = newRow\n",
    "        print(row)\n",
    "    return row[0]\n",
    "    "
   ]
  },
  {
   "cell_type": "code",
   "execution_count": 117,
   "id": "3bb55ba0",
   "metadata": {},
   "outputs": [
    {
     "name": "stdout",
     "output_type": "stream",
     "text": [
      "[6, 5, 4, 3, 2, 1]\n",
      "[21, 15, 10, 6, 3, 1]\n"
     ]
    },
    {
     "data": {
      "text/plain": [
       "21"
      ]
     },
     "execution_count": 117,
     "metadata": {},
     "output_type": "execute_result"
    }
   ],
   "source": [
    "GridTravel(3,6)"
   ]
  },
  {
   "cell_type": "code",
   "execution_count": 260,
   "id": "f30c8448",
   "metadata": {},
   "outputs": [],
   "source": [
    "# WORD BREAK PROBLEM\n",
    "\n",
    "def wordbreak(s:str, wordDict: list)-> bool:\n",
    "    dp = [False]*(len(s) +1)\n",
    "    dp[len(s)] = True\n",
    "    \n",
    "    for i in range(len(s)-1,-1,-1):\n",
    "        for w in wordDict:\n",
    "            if (i + len(w)) <= len(s) and s[i:i+len(w)] == w:\n",
    "                dp[i] = dp[i + len(w)]\n",
    "            if dp[i]:\n",
    "                break\n",
    "    return dp[0]"
   ]
  },
  {
   "cell_type": "code",
   "execution_count": 261,
   "id": "8353bd06",
   "metadata": {},
   "outputs": [
    {
     "data": {
      "text/plain": [
       "True"
      ]
     },
     "execution_count": 261,
     "metadata": {},
     "output_type": "execute_result"
    }
   ],
   "source": [
    "wordbreak(\"testi\",[\"test\", \"i\"])"
   ]
  },
  {
   "cell_type": "code",
   "execution_count": 160,
   "id": "0077938a",
   "metadata": {},
   "outputs": [],
   "source": [
    "# We use the bottom Up Approach  get the minimun coins\n",
    "# Time complexity of O(n*m)\n",
    "# Space Complexity of O(n) where n is the target and m is the number of coins\n",
    "def CoinChange(target,coins):\n",
    "    dp = [ target +1 ]*(target +1) \n",
    "    dp[0] =0 \n",
    "    \n",
    "    for i in range(1,target+1):\n",
    "        for coin in coins:\n",
    "            if coin <= i:\n",
    "                dp[i] = min(dp[i],1+dp[i-coin])\n",
    "    \n",
    "    print(dp)\n",
    "    return dp[target] if dp[target] != target+1 else -1"
   ]
  },
  {
   "cell_type": "code",
   "execution_count": 161,
   "id": "324bc100",
   "metadata": {},
   "outputs": [
    {
     "name": "stdout",
     "output_type": "stream",
     "text": [
      "[0, 8, 8, 1, 8, 1, 2, 8]\n"
     ]
    },
    {
     "data": {
      "text/plain": [
       "0"
      ]
     },
     "execution_count": 161,
     "metadata": {},
     "output_type": "execute_result"
    }
   ],
   "source": [
    "CoinChange(7,[5,3,8])"
   ]
  },
  {
   "cell_type": "code",
   "execution_count": 224,
   "id": "5dcb48df",
   "metadata": {},
   "outputs": [],
   "source": [
    "# Using Recursive Top-Down\n",
    "# Time Complexity of O(n)\n",
    "# Space Complexity of O(n)\n",
    "def numDecoding(s):\n",
    "    dp= {len(s):1}\n",
    "    \n",
    "    def dfs(i):\n",
    "        if i in dp:\n",
    "            return dp[i]\n",
    "        if s[i] == \"0\":\n",
    "            return 0\n",
    "        \n",
    "        res = dfs(i+1)\n",
    "        if(i+1 <len(s)  and 10 <= int(s[i:i+2]) <=26 ):\n",
    "            \n",
    "            res += dfs(i+1)\n",
    "        dp[i] = res\n",
    "        return dp[i]\n",
    "    \n",
    "\n",
    "    return dfs(0)"
   ]
  },
  {
   "cell_type": "code",
   "execution_count": 225,
   "id": "9eea2798",
   "metadata": {},
   "outputs": [],
   "source": [
    "# Using Dynamic Programming Bottom Up\n",
    "# Time Complexity of O(n)\n",
    "# Space Complexity of O(n)\n",
    "def NumDecodingDynamic(s):\n",
    "    dp = [0]*(len(s) +1)\n",
    "    dp[len(s)] = 1\n",
    "\n",
    "    for i in range(len(s)-1,-1,-1):\n",
    "        if s[i] == \"0\":\n",
    "            dp[i] = 0\n",
    "        else:\n",
    "            dp[i] = dp[i+1]\n",
    "            \n",
    "        if(i+1 <len(s)  and 10 <= int(s[i:i+2])<=26 ):\n",
    "            \n",
    "            dp[i] += dp[i+1]\n",
    "            \n",
    "    return dp[0]\n",
    "        \n",
    "            "
   ]
  },
  {
   "cell_type": "code",
   "execution_count": 226,
   "id": "e5e56517",
   "metadata": {},
   "outputs": [],
   "source": [
    "# Using Dynamic Programming Bottom Up\n",
    "# Time Complexity of O(n)\n",
    "# Space Complexity of O(1)\n",
    "def Decoding(s):\n",
    "    one_step = 1\n",
    "    two_step =0\n",
    "    \n",
    "    for i in range(len(s)-1,-1,-1):\n",
    "        if s[i] ==\"0\":\n",
    "            res = 0\n",
    "        else:\n",
    "            res = one_step\n",
    "        if(i+1 <len(s)  and 10 <= int(s[i:i+2])<=26 ):\n",
    "            res += two_step\n",
    "            \n",
    "        two_step,one_step = one_step, res\n",
    "        \n",
    "    return one_step"
   ]
  },
  {
   "cell_type": "code",
   "execution_count": 227,
   "id": "4e0dc73d",
   "metadata": {
    "scrolled": true
   },
   "outputs": [
    {
     "name": "stdout",
     "output_type": "stream",
     "text": [
      "4\n",
      "0\n",
      "0\n"
     ]
    }
   ],
   "source": [
    "print(NumDecodingDynamic(\"121\"))\n",
    "print(numDecoding(\"06\"))\n",
    "print(Decoding(\"06\"))"
   ]
  },
  {
   "cell_type": "code",
   "execution_count": null,
   "id": "19528cfd",
   "metadata": {},
   "outputs": [],
   "source": [
    "def decodeways(s):\n",
    "    \n",
    "    dp = [0]*(len(s)+1)\n",
    "    \n",
    "    dp[len(s)] =1 # For an empty string \n",
    "    \n",
    "    for i in range(len(s)-1,-1,-1):\n",
    "        \n",
    "        if (s[i]=='0'):\n",
    "            dp[i] =0\n",
    "        else:\n",
    "            dp[i] = dp[i+1] # Decode the remaining string after decoding current index\n",
    "            if (10 <= int(s[i:i+2]) <=26):\n",
    "                dp[i]+=dp[i+2] # Decode the remaining after decoding the currnet and the next value\n",
    "    return dp[0]"
   ]
  },
  {
   "cell_type": "code",
   "execution_count": null,
   "id": "ca1ac225",
   "metadata": {},
   "outputs": [],
   "source": []
  }
 ],
 "metadata": {
  "kernelspec": {
   "display_name": "Python 3 (ipykernel)",
   "language": "python",
   "name": "python3"
  },
  "language_info": {
   "codemirror_mode": {
    "name": "ipython",
    "version": 3
   },
   "file_extension": ".py",
   "mimetype": "text/x-python",
   "name": "python",
   "nbconvert_exporter": "python",
   "pygments_lexer": "ipython3",
   "version": "3.7.9"
  }
 },
 "nbformat": 4,
 "nbformat_minor": 5
}
