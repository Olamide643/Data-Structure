{
 "cells": [
  {
   "cell_type": "code",
   "execution_count": 5,
   "id": "2cb710e3",
   "metadata": {},
   "outputs": [],
   "source": [
    "class Node:\n",
    "    def __init__(self,val):\n",
    "        self.val = val\n",
    "        self.next = None"
   ]
  },
  {
   "cell_type": "code",
   "execution_count": 6,
   "id": "587f49b5",
   "metadata": {},
   "outputs": [],
   "source": [
    "def ConvertListToNode(arr):\n",
    "    head = start = Node(arr[0])\n",
    "    for num in arr[1:]:\n",
    "        start.next = Node(num)\n",
    "        start = start.next\n",
    "    return head"
   ]
  },
  {
   "cell_type": "code",
   "execution_count": null,
   "id": "8d7147ce",
   "metadata": {},
   "outputs": [],
   "source": []
  },
  {
   "cell_type": "code",
   "execution_count": 7,
   "id": "8073b032",
   "metadata": {},
   "outputs": [],
   "source": [
    "# Tme complexity of O(n)\n",
    "# Space complexity of O(1)\n",
    "def SwapAdjacentNode(arr):\n",
    "    LinkedList = ConvertListToNode(arr)  # Convert to linked list\n",
    "    \n",
    "    def dfs(LinkedList):\n",
    "        prev = Node(None) # Default starting Node \n",
    "        current = LinkedList\n",
    "        head = LinkedList.next \n",
    "        \n",
    "        while(current != None and current.next != None):\n",
    "            one_step = current.next\n",
    "            two_step = current.next.next\n",
    "\n",
    "            prev.next =one_step\n",
    "            one_step.next = current\n",
    "            current.next = two_step\n",
    "\n",
    "            prev = current\n",
    "            current = two_step\n",
    "\n",
    "        return head \n",
    "    return dfs(LinkedList)\n",
    "    \n",
    "    \n",
    "    "
   ]
  },
  {
   "cell_type": "code",
   "execution_count": 8,
   "id": "4e297a9c",
   "metadata": {},
   "outputs": [
    {
     "name": "stdout",
     "output_type": "stream",
     "text": [
      "2\n",
      "1\n",
      "4\n",
      "3\n",
      "6\n",
      "5\n",
      "7\n"
     ]
    }
   ],
   "source": [
    "newarr = [1,2,3,4,5,6,7]\n",
    "\n",
    "starting = SwapAdjacentNode(newarr)\n",
    "\n",
    "while starting != None:\n",
    "    print(starting.val)\n",
    "    starting = starting.next"
   ]
  },
  {
   "cell_type": "markdown",
   "id": "573cd1ad",
   "metadata": {},
   "source": [
    "# Reverse Nodes In K-Group "
   ]
  },
  {
   "cell_type": "raw",
   "id": "1b3c46f0",
   "metadata": {},
   "source": [
    "Given the head of a linked list, reverse the nodes of the list k at a time, and return the modified list.\n",
    "\n",
    "k is a positive integer and is less than or equal to the length of the linked list. If the number of nodes is not a multiple of k then left-out nodes, in the end, should remain as it is.\n",
    "\n",
    "You may not alter the values in the list's nodes, only nodes themselves may be changed."
   ]
  },
  {
   "cell_type": "code",
   "execution_count": 23,
   "id": "df65e3b7",
   "metadata": {},
   "outputs": [],
   "source": [
    "def reverse_node_in_k_group(arr,k):\n",
    "    linkedlist = ConvertListToNode(arr)\n",
    "    length_of_linked_list = len(arr)\n",
    "    \n",
    "    number_of_loop = length_of_linked_list // k\n",
    "    \n",
    "    \n",
    "    def dfs(linkedlist,k,number_of_loop):\n",
    "        previous = prev = Node(None)\n",
    "        prev.next = linkedlist\n",
    "        \n",
    "        counter = 0\n",
    "        while (counter <= number_of_loop):\n",
    "            head =linkedlist\n",
    "            \n",
    "            \n",
    "            reverse_count = 0\n",
    "            while(reverse_count <= k):\n",
    "                current = head\n",
    "                one_step = current.next\n",
    "                two_step = current.next.next\n",
    "                \n",
    "                prev.next = one_step\n",
    "                one_step.next = current \n",
    "                current.next.next = two_step\n",
    "                \n",
    "                current = one_step\n",
    "                reverse_count += 1\n",
    "                \n",
    "            head = two_step  \n",
    "            #prev = one_step\n",
    "            counter += 1\n",
    "            \n",
    "        return prev.next \n",
    "    return dfs(linkedlist,k,number_of_loop) "
   ]
  },
  {
   "cell_type": "code",
   "execution_count": 24,
   "id": "0155415f",
   "metadata": {},
   "outputs": [
    {
     "name": "stdout",
     "output_type": "stream",
     "text": [
      "2\n",
      "3\n",
      "4\n"
     ]
    }
   ],
   "source": [
    "testarr = [1,2,3,4,5]\n",
    "k = 2\n",
    "\n",
    "started = reverse_node_in_k_group(testarr,k)\n",
    "\n",
    "while started.next != None:\n",
    "    print(started.val)\n",
    "    started = started.next"
   ]
  },
  {
   "cell_type": "code",
   "execution_count": null,
   "id": "a9872ddf",
   "metadata": {},
   "outputs": [],
   "source": [
    "def reverse_k_node(head,k):\n",
    "    starting = Node(0)\n",
    "    current = head\n",
    "    starting.next = head\n",
    "    linked_prev = starting\n",
    "    linked_curr = head \n",
    "    count = 0\n",
    "    stop = len(arr)//k\n",
    "    start =0\n",
    "    while start < stop:\n",
    "        prev = None\n",
    "        while count < k:\n",
    "            next_node = current.next\n",
    "            current.next = prev\n",
    "            prev = current\n",
    "            current = next_node\n",
    "            count += 1\n",
    "        linked_prev.next = prev\n",
    "        linked_curr.next = current\n",
    "        count = 0\n",
    "    linked_curr.next = current"
   ]
  },
  {
   "cell_type": "code",
   "execution_count": 10,
   "id": "8fdeedc1",
   "metadata": {},
   "outputs": [],
   "source": [
    "# REORDER A LINKED LIST \n",
    "# 1 --> 2 --> 3 --> 4 --> 5   := Input \n",
    "# 1 --> 5 --> 2 --> 4  --> 3  := Output\n",
    "# Time Complexity of O(n)\n",
    "# Space Complexity of O(1)"
   ]
  },
  {
   "cell_type": "code",
   "execution_count": 11,
   "id": "180a13fd",
   "metadata": {},
   "outputs": [],
   "source": [
    "def Reorder(arr):\n",
    "    head = ConvertListToNode(arr)\n",
    "    def dfs(head):\n",
    "        \n",
    "        # Splitting the list into two linked list\n",
    "        slow = head\n",
    "        fast = head.next\n",
    "        while fast and fast.next:\n",
    "            slow = slow.next\n",
    "            fast = fast.next.next\n",
    "            \n",
    "        second = slow.next\n",
    "        slow.next = None\n",
    "        \n",
    "        # Reserve second linked lsit\n",
    "        prev = None \n",
    "        while second:\n",
    "            tmp = second.next\n",
    "            second.next = prev\n",
    "            prev = second \n",
    "            second = tmp\n",
    "            \n",
    "        second = prev\n",
    "        first = head\n",
    "        while second:\n",
    "            tmp1 = first.next\n",
    "            tmp2 = second.next\n",
    "            \n",
    "            first.next = second\n",
    "            second.next = tmp1\n",
    "            \n",
    "            first = tmp1\n",
    "            second = tmp2\n",
    "            \n",
    "        return  head\n",
    "    return dfs(head)\n",
    "        "
   ]
  },
  {
   "cell_type": "code",
   "execution_count": 12,
   "id": "a13415ae",
   "metadata": {},
   "outputs": [
    {
     "name": "stdout",
     "output_type": "stream",
     "text": [
      "1\n",
      "5\n",
      "2\n",
      "4\n",
      "3\n"
     ]
    }
   ],
   "source": [
    "#  Testing Order List\n",
    "testarr = [1,2,3,4,5]\n",
    "started = Reorder(testarr)\n",
    "\n",
    "while started != None:\n",
    "    print(started.val)\n",
    "    started = started.next"
   ]
  },
  {
   "cell_type": "code",
   "execution_count": 13,
   "id": "f99f08ac",
   "metadata": {},
   "outputs": [],
   "source": [
    "def mergeSortedList(arr1,arr2):\n",
    "    \n",
    "    head1 = ConvertListToNode(arr1)\n",
    "    head2 = ConvertListToNode(arr2)\n",
    "    \n",
    "    def dfs(head1,head2):\n",
    "        dummy =  Node(\"None\")\n",
    "        start = dummy   \n",
    "        first,second = head1, head2\n",
    "        \n",
    "        while head1 and head2 :\n",
    "            if (head1.val < head2.val):\n",
    "                start.next = head1\n",
    "                head1 = head1.next\n",
    "            else:\n",
    "                start.next = head2\n",
    "                head2 = head2.next\n",
    "                \n",
    "            start = start.next\n",
    "                \n",
    "        if head1 is not None:\n",
    "            start.next = head1\n",
    "        if head2 is not None:\n",
    "            start.next = head2\n",
    "        return dummy.next \n",
    "    return dfs(head1,head2)"
   ]
  },
  {
   "cell_type": "code",
   "execution_count": 15,
   "id": "ecf731df",
   "metadata": {},
   "outputs": [
    {
     "name": "stdout",
     "output_type": "stream",
     "text": [
      "1\n",
      "1.5\n",
      "2\n",
      "3\n",
      "4\n",
      "5\n"
     ]
    }
   ],
   "source": [
    "arr1 =[1,2,3]\n",
    "arr2 = [1.5,4,5]\n",
    "\n",
    "started = mergeSortedList(arr1,arr2)\n",
    "while started != None:\n",
    "    print(started.val)\n",
    "    started = started.next"
   ]
  },
  {
   "cell_type": "code",
   "execution_count": 48,
   "id": "f2f0cb83",
   "metadata": {},
   "outputs": [],
   "source": [
    "# Merge K Sorted List \n",
    "# Time Complexity O(nlogk) where k is the length of the list of LinkedLists\n",
    "# Space Complexity O(1)\n",
    "\n",
    "class MergeKSortedList:\n",
    "    \n",
    "    def __init__(self,ListOfLinkedList):\n",
    "        self.lists = ListOfLinkedList\n",
    "    \n",
    "    def merge(self,head1,head2):\n",
    "        start = dummy= Node(\"None\")\n",
    "        \n",
    "        while head1 and head2:\n",
    "            if head1.val < head2.val:\n",
    "                start.next = head1\n",
    "                head1 = head1.next\n",
    "            else:\n",
    "                start.next = head2\n",
    "                head2 = head2.next\n",
    "            start = start.next\n",
    "        if head1:\n",
    "            start.next = head1\n",
    "        if head2: \n",
    "            start.next = head2\n",
    "            \n",
    "        return dummy.next\n",
    "    \n",
    "    def mergeKsortList(self):\n",
    "        while len(self.lists) > 1:\n",
    "            head1 = self.lists.pop()\n",
    "            head2 = self.lists.pop()\n",
    "\n",
    "            self.lists.append(self.merge(head1,head2))\n",
    "        return self.lists[0]"
   ]
  },
  {
   "cell_type": "code",
   "execution_count": 51,
   "id": "006230f5",
   "metadata": {},
   "outputs": [
    {
     "name": "stdout",
     "output_type": "stream",
     "text": [
      "1\n",
      "2\n",
      "3\n",
      "4\n",
      "4\n",
      "5\n",
      "6\n",
      "7\n",
      "10\n",
      "12\n",
      "23\n"
     ]
    }
   ],
   "source": [
    "arr1 = [1,3,4,5]\n",
    "arr2 = [2,4,7,10]\n",
    "arr3 = [6,12,23]\n",
    "\n",
    "arrs = [arr1, arr2,arr3]\n",
    "lists = []\n",
    "for arr in arrs:\n",
    "    lists.append(ConvertListToNode(arr))\n",
    "\n",
    "merge = MergeKSortedList(lists)\n",
    "starte = merge.mergeKsortList()\n",
    "while starte != None:\n",
    "    print(starte.val)\n",
    "    starte = starte.next"
   ]
  },
  {
   "cell_type": "code",
   "execution_count": 52,
   "id": "479d8879",
   "metadata": {},
   "outputs": [],
   "source": [
    "# Linked List cycle\n",
    "# Time Complexity of O(n)\n",
    "# Space complexity of O(n) due to hashset\n",
    "def cycle(head,hashmap= None):\n",
    "    if hashmap == None:\n",
    "        hashmap = set()\n",
    "        \n",
    "    while head:\n",
    "        if head in hashmap:\n",
    "            return True\n",
    "        hashmap.add(head)\n",
    "        head = head.next\n",
    "    return False\n",
    "    "
   ]
  },
  {
   "cell_type": "code",
   "execution_count": 17,
   "id": "c30f3e9a",
   "metadata": {},
   "outputs": [],
   "source": [
    "# Linked List cycle\n",
    "# Time Complexity of O(n)\n",
    "# Space complexity of O(1) \n",
    "def checkCycle(head):\n",
    "    slow,fast = head,head\n",
    "\n",
    "    while fast and fast.next:\n",
    "        slow = slow.next\n",
    "        fast = fast.next.next\n",
    "        if slow ==fast:\n",
    "            return True\n",
    "    return False\n",
    "            \n",
    "    \n",
    "    \n",
    "    "
   ]
  },
  {
   "cell_type": "code",
   "execution_count": 19,
   "id": "9202da29",
   "metadata": {},
   "outputs": [
    {
     "name": "stdout",
     "output_type": "stream",
     "text": [
      "True\n"
     ]
    }
   ],
   "source": [
    "a = Node(1)\n",
    "b = Node(2)\n",
    "c = Node(3)\n",
    "d = Node(4)\n",
    "e = Node(5)\n",
    "\n",
    "a.next = b\n",
    "b.next = c\n",
    "c.next = d \n",
    "d.next = e\n",
    "e.next = c\n",
    "\n",
    "print(checkCycle(a))"
   ]
  },
  {
   "cell_type": "code",
   "execution_count": 81,
   "id": "8ee9613c",
   "metadata": {},
   "outputs": [],
   "source": [
    "# Time complexity of O(n)\n",
    "# Space Complexity of O(1)\n",
    "def RemoveNNodeFromEnd(arr,k):\n",
    "    head = ConvertListToNode(arr)\n",
    "    \n",
    "    def helper(head,k):\n",
    "        dummy = Node(\"N\")\n",
    "        dummy.next = head\n",
    "        \n",
    "        if(k <= 0 or head == None):\n",
    "            return head\n",
    "        \n",
    "        slow,fast = dummy, head\n",
    "        count = 0\n",
    "        while count < k and fast:\n",
    "            fast = fast.next\n",
    "            count += 1\n",
    "        if count < k:\n",
    "            return head\n",
    "        \n",
    "        while fast:\n",
    "            slow,fast = slow.next,fast.next\n",
    "            \n",
    "        slow.next = slow.next.next\n",
    "        \n",
    "        return dummy.next\n",
    "    return helper(head,k)\n",
    "        "
   ]
  },
  {
   "cell_type": "code",
   "execution_count": 86,
   "id": "5906e932",
   "metadata": {},
   "outputs": [
    {
     "name": "stdout",
     "output_type": "stream",
     "text": [
      "1.5\n",
      "4\n",
      "5\n",
      "8\n",
      "85\n"
     ]
    }
   ],
   "source": [
    "arr = [1.5,4,5,8,85]\n",
    "\n",
    "started = RemoveNNodeFromEnd(arr,-1)\n",
    "while started != None:\n",
    "    print(started.val)\n",
    "    started = started.next"
   ]
  },
  {
   "cell_type": "code",
   "execution_count": 1,
   "id": "74e112e8",
   "metadata": {},
   "outputs": [],
   "source": []
  },
  {
   "cell_type": "code",
   "execution_count": null,
   "id": "c173a153",
   "metadata": {},
   "outputs": [],
   "source": []
  },
  {
   "cell_type": "code",
   "execution_count": null,
   "id": "a988d5ea",
   "metadata": {},
   "outputs": [],
   "source": []
  }
 ],
 "metadata": {
  "kernelspec": {
   "display_name": "Python 3 (ipykernel)",
   "language": "python",
   "name": "python3"
  },
  "language_info": {
   "codemirror_mode": {
    "name": "ipython",
    "version": 3
   },
   "file_extension": ".py",
   "mimetype": "text/x-python",
   "name": "python",
   "nbconvert_exporter": "python",
   "pygments_lexer": "ipython3",
   "version": "3.7.9"
  }
 },
 "nbformat": 4,
 "nbformat_minor": 5
}
