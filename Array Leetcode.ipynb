{
 "cells": [
  {
   "cell_type": "markdown",
   "id": "dfc53d39",
   "metadata": {},
   "source": [
    "# The Blind 75 Leetcode Array Problems"
   ]
  },
  {
   "cell_type": "raw",
   "id": "726cd3d8",
   "metadata": {},
   "source": [
    "The problems featured are:\n",
    "\n",
    "1. Three Sum Problem\n",
    "2. Contain Duplicate\n",
    "3. Container with Most Water\n",
    "4. Find Minimum in Rotated Sorted Array\n",
    "5. Maximum Product SubArray\n",
    "6. Maximum SUmm SubArray\n",
    "7. Product of Array Except Self\n",
    "8. Search in rotated sorted Array\n",
    "9. Best Time to Buy and Sell Stock\n",
    "10. Two Sum"
   ]
  },
  {
   "cell_type": "markdown",
   "id": "9ca7c609",
   "metadata": {},
   "source": [
    "#  1. Three Sum Problem"
   ]
  },
  {
   "cell_type": "code",
   "execution_count": 1,
   "id": "c266652c",
   "metadata": {},
   "outputs": [],
   "source": [
    "# This is using the dynamic programming \n",
    "# With Time Complexity of O(2^n)\n",
    "# Space Complexity of O(n)\n",
    "\n",
    "def tripletZero(arr):\n",
    "    res = []\n",
    "    \n",
    "    def dfs(i,path,total):\n",
    "        if (total == 0 and len(path) == 3):\n",
    "            res.append(path.copy())\n",
    "            return \n",
    "        if len(path) > 3:\n",
    "            return \n",
    "        if i >= len(arr):\n",
    "            return \n",
    "        \n",
    "        path.append(arr[i])\n",
    "        dfs(i+1,path, total + arr[i])\n",
    "        path.pop()\n",
    "        dfs(i+1,path,total)\n",
    "        \n",
    "    dfs(0,[],0)\n",
    "    \n",
    "    return res  "
   ]
  },
  {
   "cell_type": "code",
   "execution_count": 2,
   "id": "67c58b2e",
   "metadata": {
    "scrolled": false
   },
   "outputs": [
    {
     "data": {
      "text/plain": [
       "[[-1, 0, 1], [0, -3, 3], [1, 2, -3], [1, -4, 3]]"
      ]
     },
     "execution_count": 2,
     "metadata": {},
     "output_type": "execute_result"
    }
   ],
   "source": [
    "tripletZero([-1,0,1,2,-4,-3,3])"
   ]
  },
  {
   "cell_type": "code",
   "execution_count": 3,
   "id": "75ae3c74",
   "metadata": {},
   "outputs": [],
   "source": [
    "# Total time complexity = O(sorting) + O(for the looping)\n",
    "#                       = O(nlogn) + O(n^2) = O(n^2)\n",
    "\n",
    "def ThreeSum(arr):\n",
    "    \n",
    "    # Initialize the return result\n",
    "    res =[]\n",
    "    \n",
    "    # Sort the input array # Time Complexity O(nlogn)\n",
    "    arr.sort()\n",
    "    \n",
    "    # Iterate over each element \n",
    "    for i,a in enumerate(arr):\n",
    "        \n",
    "        # If not the first value and the prev == current\n",
    "        # move to the next value\n",
    "        if i> 0 and arr[i] == arr[i-1]:\n",
    "            continue\n",
    "        \n",
    "        # If not \n",
    "        # Set the left pointer to the next_value \n",
    "        # And the right pointer to the last value in the array\n",
    "        l,r = i+1,len(arr)-1\n",
    "        \n",
    "        \n",
    "        # Iterationg over from the left and the right values\n",
    "        while l < r:\n",
    "            \n",
    "            # Take the sum of the current, left and right pointers\n",
    "            sums = a + arr[l] + arr[r]\n",
    "            \n",
    "            # If greater than zero\n",
    "            # Reduce the right pointer by decrementing index\n",
    "            if sums > 0:\n",
    "                r-=1\n",
    "                \n",
    "            # If less than zero\n",
    "            # Increase the left pointer by incrementing the index\n",
    "            elif sums < 0:\n",
    "                l +=1\n",
    "                \n",
    "            # if equals to zero\n",
    "            # Append the current, right and left values to the result\n",
    "            # And increase the left index \n",
    "            else:\n",
    "                res.append([arr[r],arr[l],arr[i]])\n",
    "                l +=1 \n",
    "                \n",
    "                # if the updated left pointer is the same as prev\n",
    "                # Keep increasing the left pointer \n",
    "                while arr[l] == arr[l-1] and l <r:\n",
    "                    l +=1\n",
    "                \n",
    "    return res "
   ]
  },
  {
   "cell_type": "code",
   "execution_count": 4,
   "id": "631b3963",
   "metadata": {},
   "outputs": [
    {
     "data": {
      "text/plain": [
       "[[2, -1, -1], [1, 0, -1]]"
      ]
     },
     "execution_count": 4,
     "metadata": {},
     "output_type": "execute_result"
    }
   ],
   "source": [
    "arr = [-1,0,1,2,-1,-4]\n",
    "ThreeSum(arr)"
   ]
  },
  {
   "cell_type": "markdown",
   "id": "ae44b0cb",
   "metadata": {},
   "source": [
    "# 2. Contain Duplicate "
   ]
  },
  {
   "cell_type": "code",
   "execution_count": 5,
   "id": "db19e4e7",
   "metadata": {},
   "outputs": [],
   "source": [
    "# We will be using Hashset for this\n",
    "# Time Complexity O(n)\n",
    "# Space COmplexity O(n)\n",
    "def ContainsDuplicate(arr):\n",
    "    hashset = set()\n",
    "    for a in arr:\n",
    "        if a in hashset:\n",
    "            return True\n",
    "        else:\n",
    "            hashset.add(a)\n",
    "    return False"
   ]
  },
  {
   "cell_type": "code",
   "execution_count": 6,
   "id": "16126f4a",
   "metadata": {},
   "outputs": [
    {
     "data": {
      "text/plain": [
       "False"
      ]
     },
     "execution_count": 6,
     "metadata": {},
     "output_type": "execute_result"
    }
   ],
   "source": [
    "ContainsDuplicate([12,13,14,31,32,41,33,21,4,2])"
   ]
  },
  {
   "cell_type": "markdown",
   "id": "78baf2d2",
   "metadata": {},
   "source": [
    "#  3. Container with Most Water"
   ]
  },
  {
   "cell_type": "code",
   "execution_count": 7,
   "id": "e0f66b19",
   "metadata": {},
   "outputs": [],
   "source": [
    "# Time Complexity of O(n)\n",
    "# Space Complexity of O(1)\n",
    "\n",
    "def MaxArea(arr):\n",
    "    # initialize the return value to Zero\n",
    "    \n",
    "    max_area =0\n",
    "    \n",
    "    # Set the two pointers left and rigth at the beginning and the end of the array\n",
    "    l,r = 0, len(arr)-1\n",
    "        \n",
    "    # Iterate over the pointers \n",
    "    while l < r:\n",
    "        \n",
    "        # Get the area btw the two pointers \n",
    "        area = (r-l) * min(arr[r],arr[l])\n",
    "        \n",
    "        # Update the max area\n",
    "        max_area = max(max_area,area)\n",
    "        \n",
    "        # if the right is greater than the left \n",
    "        # Increase the index of the left\n",
    "        if arr[l] < arr[r]:\n",
    "            l += 1\n",
    "        \n",
    "        # Otherwise decrease the index of the right\n",
    "        else:\n",
    "            r -=1\n",
    "    \n",
    "    return max_area"
   ]
  },
  {
   "cell_type": "code",
   "execution_count": 8,
   "id": "6d8c8b8e",
   "metadata": {},
   "outputs": [
    {
     "data": {
      "text/plain": [
       "49"
      ]
     },
     "execution_count": 8,
     "metadata": {},
     "output_type": "execute_result"
    }
   ],
   "source": [
    "MaxArea([1,8,6,2,5,4,8,3,7])"
   ]
  },
  {
   "cell_type": "markdown",
   "id": "f510908b",
   "metadata": {},
   "source": [
    "# 4. Find Minimum in Rotated Sorted Array"
   ]
  },
  {
   "cell_type": "code",
   "execution_count": 9,
   "id": "b2d71b5e",
   "metadata": {},
   "outputs": [],
   "source": [
    "# Time Complexity of O(n)\n",
    "# Space Complexity of O(1)\n",
    "\n",
    "def MinimumRotatedSorted(arr):\n",
    "    minimum = arr[0]\n",
    "    \n",
    "    # Initialize the left and right pointer to the first index and last index\n",
    "    l,r = 0,len(arr)-1\n",
    "    \n",
    "    # Iterate over element \n",
    "    while l <= r:\n",
    "        \n",
    "         # Check if the sorted arr is not rotated\n",
    "        # If not rotated , break the loop and return the left pointer \n",
    "        if arr[l] < arr[r]:\n",
    "            minimum = min(minimum,arr[l])\n",
    "            break\n",
    "            \n",
    "        #Else, get the mid value\n",
    "        mid = (l+r)//2\n",
    "        \n",
    "        # Update Minimum Values \n",
    "        minimum = min(minimum,arr[mid])\n",
    "        \n",
    "        # If the mid value is part of the left subbarry\n",
    "        # Then search right\n",
    "        if arr[mid] >= arr[l]:\n",
    "            l =mid+1 \n",
    "            \n",
    "        #Else Search Left\n",
    "        else:\n",
    "            r = mid -1\n",
    "            \n",
    "    return minimum\n",
    "    \n",
    "    \n",
    "        "
   ]
  },
  {
   "cell_type": "code",
   "execution_count": 10,
   "id": "a921472f",
   "metadata": {},
   "outputs": [
    {
     "data": {
      "text/plain": [
       "-1"
      ]
     },
     "execution_count": 10,
     "metadata": {},
     "output_type": "execute_result"
    }
   ],
   "source": [
    "test_arr = [4,5,-1,2,3]\n",
    "MinimumRotatedSorted(test_arr)"
   ]
  },
  {
   "cell_type": "markdown",
   "id": "0e661671",
   "metadata": {},
   "source": [
    "# 5. Maximum Product SubArray"
   ]
  },
  {
   "cell_type": "code",
   "execution_count": 11,
   "id": "571af091",
   "metadata": {},
   "outputs": [],
   "source": [
    "# Time Complexity of O(n^2)\n",
    "# Space Complexity of O(1)\n",
    "\n",
    "# This is the brute force approach, Can we do better? Yes \n",
    "# We can do better with O(n)  time complexity\n",
    "def MaximumProductSubArray(arr):\n",
    "    \n",
    "    res = arr[0]\n",
    "    \n",
    "    for i in range(len(arr)):\n",
    "        \n",
    "        temp = arr[i]\n",
    "        \n",
    "        for j in range(i+1,len(arr)):\n",
    "            temp *= arr[j]\n",
    "            res = max(res,temp)\n",
    "    return res"
   ]
  },
  {
   "cell_type": "code",
   "execution_count": 12,
   "id": "58996bb5",
   "metadata": {},
   "outputs": [
    {
     "data": {
      "text/plain": [
       "6"
      ]
     },
     "execution_count": 12,
     "metadata": {},
     "output_type": "execute_result"
    }
   ],
   "source": [
    "MaximumProductSubArray([2,3,-2,4])"
   ]
  },
  {
   "cell_type": "code",
   "execution_count": 13,
   "id": "3128c594",
   "metadata": {},
   "outputs": [],
   "source": [
    "# Time Complexity O(n)\n",
    "# Space COmplexity O(1)\n",
    "\n",
    "def BetterMaximumProductSubArray(arr):\n",
    "    \n",
    "    # Initialize the max product to be the max elem in the array\n",
    "    res = max(arr)\n",
    "    \n",
    "    # Initialize the current max and min to be 1 \n",
    "    curr_min = curr_max = 1\n",
    "    \n",
    "    # Unlike the Kadane Algorithmm that we keep track of only the max \n",
    "    # For Maximum product problem; we need to keep track of the minimum and maximum\n",
    "    # BEcause the current minimum can be the maximum if multiplied to a negative number\n",
    "    \n",
    "    \n",
    "    # Iterating over the elements \n",
    "    for i in range(len(arr)):\n",
    "        \n",
    "        \n",
    "        val = arr[i]\n",
    "        \n",
    "        # if the current value is 0, we reset the current max and min to 1 \n",
    "        if val == 0:\n",
    "            curr_max = 1\n",
    "            curr_min = 1\n",
    "            continue\n",
    "            \n",
    "        # Update the current max and min\n",
    "            \n",
    "        temp = curr_max * val \n",
    "        curr_max = max(val,curr_max* val,curr_min*val)\n",
    "        curr_min = min(val,curr_min*val,temp)\n",
    "        \n",
    "        # Update the return value\n",
    "        res = max(res, curr_max)\n",
    "      \n",
    "    return res"
   ]
  },
  {
   "cell_type": "code",
   "execution_count": 14,
   "id": "db548f0d",
   "metadata": {
    "scrolled": true
   },
   "outputs": [
    {
     "data": {
      "text/plain": [
       "60"
      ]
     },
     "execution_count": 14,
     "metadata": {},
     "output_type": "execute_result"
    }
   ],
   "source": [
    "BetterMaximumProductSubArray([2,3,-2,4,15])"
   ]
  },
  {
   "cell_type": "markdown",
   "id": "adda0681",
   "metadata": {},
   "source": [
    "# 6. Maximum Sum SubArray"
   ]
  },
  {
   "cell_type": "code",
   "execution_count": 15,
   "id": "814d7f63",
   "metadata": {},
   "outputs": [],
   "source": [
    "# This the Kadane Algorithm for solving the Maximum Subarray \n",
    "def KadaneAlgoForMaximumSum(arr):\n",
    "    \n",
    "    # Intialize the current max to the first element of the array\n",
    "    current_max = result = arr[0]\n",
    "    \n",
    "    # Iterating over the each element\n",
    "    for i in range(1,len(arr)):\n",
    "        \n",
    "        # The current max is either the current elem or the sum of the elem and the cureent max as stated by Kadane\n",
    "        current_max  = max(arr[i], current_max + arr[i])\n",
    "        \n",
    "        # Update the return the value, if we attain a greater current max \n",
    "        if current_max > result:\n",
    "            result = current_max\n",
    "    return result\n",
    "        "
   ]
  },
  {
   "cell_type": "code",
   "execution_count": 16,
   "id": "05149424",
   "metadata": {},
   "outputs": [
    {
     "data": {
      "text/plain": [
       "7"
      ]
     },
     "execution_count": 16,
     "metadata": {},
     "output_type": "execute_result"
    }
   ],
   "source": [
    "KadaneAlgoForMaximumSum([2,3,-2,4])"
   ]
  },
  {
   "cell_type": "markdown",
   "id": "06d3f1bd",
   "metadata": {},
   "source": [
    "# 7. Product of Array Except Self"
   ]
  },
  {
   "cell_type": "code",
   "execution_count": 17,
   "id": "46fc0e5d",
   "metadata": {},
   "outputs": [],
   "source": [
    "# Time Complexity O(n)\n",
    "# Space COmplexity O(1)  : NB The answer return does not count for space \n",
    "def ProductOfArrayExceptSelf(arr):\n",
    "    answer = [1] *(len(arr))\n",
    "    \n",
    "    pre_product = 1\n",
    "    for i in range(len(arr)):\n",
    "        answer[i] = pre_product\n",
    "        pre_product *= arr[i]\n",
    "    \n",
    "    post_product= 1\n",
    "    for i in range(len(arr)-1,-1,-1):\n",
    "        answer[i] *= post_product\n",
    "        post_product *= arr[i]\n",
    "        \n",
    "    return answer"
   ]
  },
  {
   "cell_type": "code",
   "execution_count": 18,
   "id": "035c2b47",
   "metadata": {},
   "outputs": [
    {
     "data": {
      "text/plain": [
       "[24, 12, 8, 6]"
      ]
     },
     "execution_count": 18,
     "metadata": {},
     "output_type": "execute_result"
    }
   ],
   "source": [
    "ProductOfArrayExceptSelf([1,2,3,4])"
   ]
  },
  {
   "cell_type": "code",
   "execution_count": null,
   "id": "d76cad65",
   "metadata": {},
   "outputs": [],
   "source": []
  },
  {
   "cell_type": "markdown",
   "id": "6f6dce15",
   "metadata": {},
   "source": [
    "# 8. Search in rotated sorted Array"
   ]
  },
  {
   "cell_type": "code",
   "execution_count": 19,
   "id": "4c1119bd",
   "metadata": {},
   "outputs": [],
   "source": [
    "# Time Complexity of O(logn) ==> A special kind of binary search( Not the regular binary search)\n",
    "# Space Complexity of O(1)\n",
    "\n",
    "def SearchRotatedArray(arr, target):\n",
    "    \n",
    "    # Set two pointers at the beginning and the last index \n",
    "    left, right = 0,len(arr)-1\n",
    "    \n",
    "    \n",
    "    while left <= right:\n",
    "        \n",
    "        # If the mid equals the target\n",
    "        # Return the mid\n",
    "        mid = (left + right)//2\n",
    "        \n",
    "        if arr[mid] == target:\n",
    "            return mid\n",
    "        \n",
    "        \n",
    "        # Left Sorted \n",
    "        # Check if the mid value belongs to the left sorted array\n",
    "        if arr[mid] >= arr[left]:\n",
    "            \n",
    "            # If the target is greater than the mid value\n",
    "            # search Right\n",
    "            \n",
    "            # Also, if the target is less than the left pointer \n",
    "            # Search Right \n",
    "            if target > arr[mid] or target < arr[left]:\n",
    "                left = mid +1\n",
    "                \n",
    "            #Else, Search Left \n",
    "            else:\n",
    "                right = mid -1\n",
    "                \n",
    "        \n",
    "        # Right Sorted\n",
    "        # Check if the mid value belongs to the Right sorted array\n",
    "        else:\n",
    "            \n",
    "            # If the target is less than the mid value, Search left\n",
    "            # if the target is greater than the right pointer, Search left\n",
    "            if target < arr[mid] or target > arr[right]:\n",
    "                right = mid-1\n",
    "            \n",
    "            # Else, Search right \n",
    "            else:\n",
    "                 left = mid +1\n",
    "    \n",
    "    # If target not found \n",
    "    return -1\n",
    "    "
   ]
  },
  {
   "cell_type": "code",
   "execution_count": 20,
   "id": "4483fe69",
   "metadata": {},
   "outputs": [
    {
     "data": {
      "text/plain": [
       "5"
      ]
     },
     "execution_count": 20,
     "metadata": {},
     "output_type": "execute_result"
    }
   ],
   "source": [
    "arr_test = [4,5,6,7,0,1,2]\n",
    "target = 1\n",
    "SearchRotatedArray(arr_test,target)"
   ]
  },
  {
   "cell_type": "markdown",
   "id": "9734f4a7",
   "metadata": {},
   "source": [
    "# 9. Best Time to Buy and Sell Stock"
   ]
  },
  {
   "cell_type": "code",
   "execution_count": 21,
   "id": "07a061af",
   "metadata": {},
   "outputs": [],
   "source": [
    "# Time Complexity O(n)\n",
    "# Space COmplexity O(1)\n",
    "def BuySellStock(arr):\n",
    "    # Set the max profit to zero\n",
    "    max_profit =0\n",
    "    \n",
    "    # Initialize the left and right pointer the first and second index \n",
    "    left, right = 0, 1\n",
    "    \n",
    "    while right < len(arr):\n",
    "        \n",
    "        # If the left value is greater than the right value \n",
    "        # Hence, we found a new minimum\n",
    "        # Therefore we set the left pointer the the current right pointer\n",
    "        if(arr[left] > arr[right]):\n",
    "            left = right\n",
    "            \n",
    "        # If left value is less than the right value \n",
    "        # We get the profit and update the profit\n",
    "        else:\n",
    "            profit =arr[right] -arr[left]\n",
    "            max_profit = max(max_profit,profit)\n",
    "            \n",
    "        right += 1\n",
    "            \n",
    "    return max_profit"
   ]
  },
  {
   "cell_type": "code",
   "execution_count": 22,
   "id": "22ddb5ca",
   "metadata": {},
   "outputs": [
    {
     "data": {
      "text/plain": [
       "8"
      ]
     },
     "execution_count": 22,
     "metadata": {},
     "output_type": "execute_result"
    }
   ],
   "source": [
    "BuySellStock([7,1,5,3,6,4,9])"
   ]
  },
  {
   "cell_type": "markdown",
   "id": "50b93b7d",
   "metadata": {},
   "source": [
    "# 10. Two Sum Problem"
   ]
  },
  {
   "cell_type": "code",
   "execution_count": 23,
   "id": "5545bff7",
   "metadata": {},
   "outputs": [],
   "source": [
    "# Time Complexity O(n^2)\n",
    "# Space Complexity O(1)\n",
    "# But we can do better with the time, however we trade it for space\n",
    "def twosum(arr,target):\n",
    "    \n",
    "    for i in range(len(arr)):\n",
    "        for j in range(i+1,len(arr)):\n",
    "            if arr[i] + arr[j] == target:\n",
    "                return [i,j]"
   ]
  },
  {
   "cell_type": "code",
   "execution_count": 24,
   "id": "858c3a30",
   "metadata": {},
   "outputs": [
    {
     "data": {
      "text/plain": [
       "[2, 3]"
      ]
     },
     "execution_count": 24,
     "metadata": {},
     "output_type": "execute_result"
    }
   ],
   "source": [
    "twosum([2,7,11,15],26)"
   ]
  },
  {
   "cell_type": "code",
   "execution_count": 25,
   "id": "cda79ecc",
   "metadata": {},
   "outputs": [],
   "source": [
    "# We will be using Hashset for this\n",
    "# Time Complexity O(n)\n",
    "# Space COmplexity O(n)\n",
    "def AnotherTwosum(arr,target):\n",
    "    hashmap  = {}\n",
    "    for i in range(len(arr)):\n",
    "        remainder = target-arr[i]\n",
    "        if remainder in hashmap:\n",
    "            return [hashmap[remainder],i]\n",
    "        hashmap[arr[i]] = i  "
   ]
  },
  {
   "cell_type": "code",
   "execution_count": 26,
   "id": "77d6bd15",
   "metadata": {},
   "outputs": [
    {
     "data": {
      "text/plain": [
       "[2, 3]"
      ]
     },
     "execution_count": 26,
     "metadata": {},
     "output_type": "execute_result"
    }
   ],
   "source": [
    "AnotherTwosum([2,7,11,15],26)"
   ]
  }
 ],
 "metadata": {
  "kernelspec": {
   "display_name": "Python 3 (ipykernel)",
   "language": "python",
   "name": "python3"
  },
  "language_info": {
   "codemirror_mode": {
    "name": "ipython",
    "version": 3
   },
   "file_extension": ".py",
   "mimetype": "text/x-python",
   "name": "python",
   "nbconvert_exporter": "python",
   "pygments_lexer": "ipython3",
   "version": "3.7.9"
  }
 },
 "nbformat": 4,
 "nbformat_minor": 5
}
